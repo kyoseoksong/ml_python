{
 "cells": [
  {
   "cell_type": "code",
   "execution_count": 46,
   "metadata": {
    "collapsed": false
   },
   "outputs": [],
   "source": [
    "import numpy as np\n",
    "import matplotlib.pyplot as plt\n",
    "import os\n",
    "import pandas as pd"
   ]
  },
  {
   "cell_type": "code",
   "execution_count": 47,
   "metadata": {
    "collapsed": false
   },
   "outputs": [],
   "source": [
    "# 데이터 불러오기\n",
    "\n",
    "path = os.getcwd() + '/data/ex1data2.txt'\n",
    "data2 = pd.read_csv(path, header=None, names = ['Size', 'Bedrooms', 'Price'])"
   ]
  },
  {
   "cell_type": "code",
   "execution_count": 48,
   "metadata": {
    "collapsed": false
   },
   "outputs": [
    {
     "data": {
      "text/html": [
       "<div>\n",
       "<table border=\"1\" class=\"dataframe\">\n",
       "  <thead>\n",
       "    <tr style=\"text-align: right;\">\n",
       "      <th></th>\n",
       "      <th>Size</th>\n",
       "      <th>Bedrooms</th>\n",
       "      <th>Price</th>\n",
       "    </tr>\n",
       "  </thead>\n",
       "  <tbody>\n",
       "    <tr>\n",
       "      <th>0</th>\n",
       "      <td>2104</td>\n",
       "      <td>3</td>\n",
       "      <td>399900</td>\n",
       "    </tr>\n",
       "    <tr>\n",
       "      <th>1</th>\n",
       "      <td>1600</td>\n",
       "      <td>3</td>\n",
       "      <td>329900</td>\n",
       "    </tr>\n",
       "    <tr>\n",
       "      <th>2</th>\n",
       "      <td>2400</td>\n",
       "      <td>3</td>\n",
       "      <td>369000</td>\n",
       "    </tr>\n",
       "    <tr>\n",
       "      <th>3</th>\n",
       "      <td>1416</td>\n",
       "      <td>2</td>\n",
       "      <td>232000</td>\n",
       "    </tr>\n",
       "    <tr>\n",
       "      <th>4</th>\n",
       "      <td>3000</td>\n",
       "      <td>4</td>\n",
       "      <td>539900</td>\n",
       "    </tr>\n",
       "  </tbody>\n",
       "</table>\n",
       "</div>"
      ],
      "text/plain": [
       "   Size  Bedrooms   Price\n",
       "0  2104         3  399900\n",
       "1  1600         3  329900\n",
       "2  2400         3  369000\n",
       "3  1416         2  232000\n",
       "4  3000         4  539900"
      ]
     },
     "execution_count": 48,
     "metadata": {},
     "output_type": "execute_result"
    }
   ],
   "source": [
    "data2.head()"
   ]
  },
  {
   "cell_type": "markdown",
   "metadata": {},
   "source": [
    "Feature Scaling을 해 주기 위해\n",
    "- 각 feature의 mean\n",
    "- 각 feature의 standard deviation\n",
    "을 구한 다음에 표준값 (z-score) 을 구해 준다. "
   ]
  },
  {
   "cell_type": "code",
   "execution_count": 49,
   "metadata": {
    "collapsed": false
   },
   "outputs": [
    {
     "data": {
      "text/plain": [
       "2000.6808510638298"
      ]
     },
     "execution_count": 49,
     "metadata": {},
     "output_type": "execute_result"
    }
   ],
   "source": [
    "# 참고\n",
    "data2['Size'].mean()     # 1개 컬럼의 평균"
   ]
  },
  {
   "cell_type": "code",
   "execution_count": 50,
   "metadata": {
    "collapsed": false
   },
   "outputs": [
    {
     "data": {
      "text/plain": [
       "Size          2000.680851\n",
       "Bedrooms         3.170213\n",
       "Price       340412.659574\n",
       "dtype: float64"
      ]
     },
     "execution_count": 50,
     "metadata": {},
     "output_type": "execute_result"
    }
   ],
   "source": [
    "data2.mean()     # 모든 컬럼의 평균 (컬럼 별))"
   ]
  },
  {
   "cell_type": "code",
   "execution_count": 51,
   "metadata": {
    "collapsed": false
   },
   "outputs": [
    {
     "data": {
      "text/plain": [
       "Size           794.702354\n",
       "Bedrooms         0.760982\n",
       "Price       125039.899586\n",
       "dtype: float64"
      ]
     },
     "execution_count": 51,
     "metadata": {},
     "output_type": "execute_result"
    }
   ],
   "source": [
    "data2.std()     # 모든 컬럼의 표준편차 (컬럼 별))"
   ]
  },
  {
   "cell_type": "code",
   "execution_count": 52,
   "metadata": {
    "collapsed": true
   },
   "outputs": [],
   "source": [
    "data2 = (data2 - data2.mean()) / data2.std()"
   ]
  },
  {
   "cell_type": "code",
   "execution_count": 53,
   "metadata": {
    "collapsed": false
   },
   "outputs": [
    {
     "data": {
      "text/html": [
       "<div>\n",
       "<table border=\"1\" class=\"dataframe\">\n",
       "  <thead>\n",
       "    <tr style=\"text-align: right;\">\n",
       "      <th></th>\n",
       "      <th>Size</th>\n",
       "      <th>Bedrooms</th>\n",
       "      <th>Price</th>\n",
       "    </tr>\n",
       "  </thead>\n",
       "  <tbody>\n",
       "    <tr>\n",
       "      <th>0</th>\n",
       "      <td>0.130010</td>\n",
       "      <td>-0.223675</td>\n",
       "      <td>0.475747</td>\n",
       "    </tr>\n",
       "    <tr>\n",
       "      <th>1</th>\n",
       "      <td>-0.504190</td>\n",
       "      <td>-0.223675</td>\n",
       "      <td>-0.084074</td>\n",
       "    </tr>\n",
       "    <tr>\n",
       "      <th>2</th>\n",
       "      <td>0.502476</td>\n",
       "      <td>-0.223675</td>\n",
       "      <td>0.228626</td>\n",
       "    </tr>\n",
       "    <tr>\n",
       "      <th>3</th>\n",
       "      <td>-0.735723</td>\n",
       "      <td>-1.537767</td>\n",
       "      <td>-0.867025</td>\n",
       "    </tr>\n",
       "    <tr>\n",
       "      <th>4</th>\n",
       "      <td>1.257476</td>\n",
       "      <td>1.090417</td>\n",
       "      <td>1.595389</td>\n",
       "    </tr>\n",
       "  </tbody>\n",
       "</table>\n",
       "</div>"
      ],
      "text/plain": [
       "       Size  Bedrooms     Price\n",
       "0  0.130010 -0.223675  0.475747\n",
       "1 -0.504190 -0.223675 -0.084074\n",
       "2  0.502476 -0.223675  0.228626\n",
       "3 -0.735723 -1.537767 -0.867025\n",
       "4  1.257476  1.090417  1.595389"
      ]
     },
     "execution_count": 53,
     "metadata": {},
     "output_type": "execute_result"
    }
   ],
   "source": [
    "data2.head()"
   ]
  },
  {
   "cell_type": "code",
   "execution_count": 59,
   "metadata": {
    "collapsed": false
   },
   "outputs": [],
   "source": [
    "# 그려 보자. 3D 니까 앞장과는 다르게 구현된다. \n",
    "\n",
    "def plotData(df):\n",
    "    price_3d = plt.figure().gca(projection='3d')\n",
    "    price_3d.scatter(df['Size'], df['Bedrooms'], df['Price'])\n",
    "    price_3d.set_xlabel('Size')\n",
    "    price_3d.set_ylabel('Bedrooms')\n",
    "    price_3d.set_zlabel('Price')\n",
    "    plt.show()"
   ]
  },
  {
   "cell_type": "code",
   "execution_count": 60,
   "metadata": {
    "collapsed": false
   },
   "outputs": [
    {
     "data": {
      "image/png": "[encoded data removed]",
      "text/plain": [
       "<matplotlib.figure.Figure at 0x10f262090>"
      ]
     },
     "metadata": {},
     "output_type": "display_data"
    }
   ],
   "source": [
    "plotData(data2)"
   ]
  },
  {
   "cell_type": "code",
   "execution_count": 61,
   "metadata": {
    "collapsed": true
   },
   "outputs": [],
   "source": [
    "# x0 의 값 (1) 을 추가해 주자\n",
    "\n",
    "data2.insert(0, 'Ones', 1)"
   ]
  },
  {
   "cell_type": "code",
   "execution_count": 63,
   "metadata": {
    "collapsed": false
   },
   "outputs": [
    {
     "data": {
      "text/html": [
       "<div>\n",
       "<table border=\"1\" class=\"dataframe\">\n",
       "  <thead>\n",
       "    <tr style=\"text-align: right;\">\n",
       "      <th></th>\n",
       "      <th>Ones</th>\n",
       "      <th>Size</th>\n",
       "      <th>Bedrooms</th>\n",
       "      <th>Price</th>\n",
       "    </tr>\n",
       "  </thead>\n",
       "  <tbody>\n",
       "    <tr>\n",
       "      <th>0</th>\n",
       "      <td>1</td>\n",
       "      <td>0.130010</td>\n",
       "      <td>-0.223675</td>\n",
       "      <td>0.475747</td>\n",
       "    </tr>\n",
       "    <tr>\n",
       "      <th>1</th>\n",
       "      <td>1</td>\n",
       "      <td>-0.504190</td>\n",
       "      <td>-0.223675</td>\n",
       "      <td>-0.084074</td>\n",
       "    </tr>\n",
       "    <tr>\n",
       "      <th>2</th>\n",
       "      <td>1</td>\n",
       "      <td>0.502476</td>\n",
       "      <td>-0.223675</td>\n",
       "      <td>0.228626</td>\n",
       "    </tr>\n",
       "    <tr>\n",
       "      <th>3</th>\n",
       "      <td>1</td>\n",
       "      <td>-0.735723</td>\n",
       "      <td>-1.537767</td>\n",
       "      <td>-0.867025</td>\n",
       "    </tr>\n",
       "    <tr>\n",
       "      <th>4</th>\n",
       "      <td>1</td>\n",
       "      <td>1.257476</td>\n",
       "      <td>1.090417</td>\n",
       "      <td>1.595389</td>\n",
       "    </tr>\n",
       "  </tbody>\n",
       "</table>\n",
       "</div>"
      ],
      "text/plain": [
       "   Ones      Size  Bedrooms     Price\n",
       "0     1  0.130010 -0.223675  0.475747\n",
       "1     1 -0.504190 -0.223675 -0.084074\n",
       "2     1  0.502476 -0.223675  0.228626\n",
       "3     1 -0.735723 -1.537767 -0.867025\n",
       "4     1  1.257476  1.090417  1.595389"
      ]
     },
     "execution_count": 63,
     "metadata": {},
     "output_type": "execute_result"
    }
   ],
   "source": [
    "data2.head()"
   ]
  },
  {
   "cell_type": "code",
   "execution_count": 64,
   "metadata": {
    "collapsed": true
   },
   "outputs": [],
   "source": [
    "# Training set 인 data2를 X2 와 y2 로 분리해 준다. \n",
    "\n",
    "X2 = data2.iloc[:,0:3]\n",
    "y2 = data2.iloc[:,3:4]"
   ]
  },
  {
   "cell_type": "code",
   "execution_count": 65,
   "metadata": {
    "collapsed": false
   },
   "outputs": [
    {
     "data": {
      "text/html": [
       "<div>\n",
       "<table border=\"1\" class=\"dataframe\">\n",
       "  <thead>\n",
       "    <tr style=\"text-align: right;\">\n",
       "      <th></th>\n",
       "      <th>Ones</th>\n",
       "      <th>Size</th>\n",
       "      <th>Bedrooms</th>\n",
       "    </tr>\n",
       "  </thead>\n",
       "  <tbody>\n",
       "    <tr>\n",
       "      <th>0</th>\n",
       "      <td>1</td>\n",
       "      <td>0.130010</td>\n",
       "      <td>-0.223675</td>\n",
       "    </tr>\n",
       "    <tr>\n",
       "      <th>1</th>\n",
       "      <td>1</td>\n",
       "      <td>-0.504190</td>\n",
       "      <td>-0.223675</td>\n",
       "    </tr>\n",
       "    <tr>\n",
       "      <th>2</th>\n",
       "      <td>1</td>\n",
       "      <td>0.502476</td>\n",
       "      <td>-0.223675</td>\n",
       "    </tr>\n",
       "    <tr>\n",
       "      <th>3</th>\n",
       "      <td>1</td>\n",
       "      <td>-0.735723</td>\n",
       "      <td>-1.537767</td>\n",
       "    </tr>\n",
       "    <tr>\n",
       "      <th>4</th>\n",
       "      <td>1</td>\n",
       "      <td>1.257476</td>\n",
       "      <td>1.090417</td>\n",
       "    </tr>\n",
       "  </tbody>\n",
       "</table>\n",
       "</div>"
      ],
      "text/plain": [
       "   Ones      Size  Bedrooms\n",
       "0     1  0.130010 -0.223675\n",
       "1     1 -0.504190 -0.223675\n",
       "2     1  0.502476 -0.223675\n",
       "3     1 -0.735723 -1.537767\n",
       "4     1  1.257476  1.090417"
      ]
     },
     "execution_count": 65,
     "metadata": {},
     "output_type": "execute_result"
    }
   ],
   "source": [
    "X2.head()"
   ]
  },
  {
   "cell_type": "code",
   "execution_count": 66,
   "metadata": {
    "collapsed": false
   },
   "outputs": [
    {
     "data": {
      "text/html": [
       "<div>\n",
       "<table border=\"1\" class=\"dataframe\">\n",
       "  <thead>\n",
       "    <tr style=\"text-align: right;\">\n",
       "      <th></th>\n",
       "      <th>Price</th>\n",
       "    </tr>\n",
       "  </thead>\n",
       "  <tbody>\n",
       "    <tr>\n",
       "      <th>0</th>\n",
       "      <td>0.475747</td>\n",
       "    </tr>\n",
       "    <tr>\n",
       "      <th>1</th>\n",
       "      <td>-0.084074</td>\n",
       "    </tr>\n",
       "    <tr>\n",
       "      <th>2</th>\n",
       "      <td>0.228626</td>\n",
       "    </tr>\n",
       "    <tr>\n",
       "      <th>3</th>\n",
       "      <td>-0.867025</td>\n",
       "    </tr>\n",
       "    <tr>\n",
       "      <th>4</th>\n",
       "      <td>1.595389</td>\n",
       "    </tr>\n",
       "  </tbody>\n",
       "</table>\n",
       "</div>"
      ],
      "text/plain": [
       "      Price\n",
       "0  0.475747\n",
       "1 -0.084074\n",
       "2  0.228626\n",
       "3 -0.867025\n",
       "4  1.595389"
      ]
     },
     "execution_count": 66,
     "metadata": {},
     "output_type": "execute_result"
    }
   ],
   "source": [
    "y2.head()"
   ]
  },
  {
   "cell_type": "code",
   "execution_count": 70,
   "metadata": {
    "collapsed": false
   },
   "outputs": [],
   "source": [
    "# pandas 의 dataframe 을 numpy 의 matrix 로 변환\n",
    "\n",
    "X2 = np.matrix(X2)\n",
    "y2 = np.matrix(y2)"
   ]
  },
  {
   "cell_type": "code",
   "execution_count": 75,
   "metadata": {
    "collapsed": true
   },
   "outputs": [],
   "source": [
    "# theta 벡터를 초기화\n",
    "\n",
    "theta2 = np.matrix(np.array([0,0,0]))\n",
    "# theta2 = np.matrix(np.zeros(3))     # 동일 결과"
   ]
  },
  {
   "cell_type": "code",
   "execution_count": 76,
   "metadata": {
    "collapsed": false
   },
   "outputs": [
    {
     "data": {
      "text/plain": [
       "((47, 3), (47, 1), (1, 3))"
      ]
     },
     "execution_count": 76,
     "metadata": {},
     "output_type": "execute_result"
    }
   ],
   "source": [
    "X2.shape, y2.shape, theta2.shape"
   ]
  },
  {
   "cell_type": "markdown",
   "metadata": {},
   "source": [
    "## Normal Equation 으로 theta 구하기\n",
    "계속 진행하기에 앞서, GD 대신에 Normal Equation 이용해서 간단하게 theta를 구해보자.\n",
    "NE 에는 feature scaling도 필요 없다. \n",
    "뒤에서 GD로 구한 값과 거의 차이 없는 것을 확인할 수 있다. "
   ]
  },
  {
   "cell_type": "code",
   "execution_count": 169,
   "metadata": {
    "collapsed": false
   },
   "outputs": [
    {
     "data": {
      "text/plain": [
       "matrix([[ -1.00613962e-16],\n",
       "        [  8.84765988e-01],\n",
       "        [ -5.31788197e-02]])"
      ]
     },
     "execution_count": 169,
     "metadata": {},
     "output_type": "execute_result"
    }
   ],
   "source": [
    "theta_optimized_normal_equation = np.linalg.inv(X2.T*X2)*X2.T*y2\n",
    "theta_optimized_normal_equation"
   ]
  },
  {
   "cell_type": "markdown",
   "metadata": {},
   "source": [
    "## Cost function & Gradient Descent 로 theta 구하기"
   ]
  },
  {
   "cell_type": "code",
   "execution_count": 143,
   "metadata": {
    "collapsed": false
   },
   "outputs": [],
   "source": [
    "# Cost function 만들어 준다.\n",
    "# ex1에서의 cost function과 완전히 동일!\n",
    "\n",
    "def computeCost(X, y, theta):\n",
    "    return np.sum(np.power((X*theta.T - y), 2))/(2*X.shape[0])"
   ]
  },
  {
   "cell_type": "code",
   "execution_count": 144,
   "metadata": {
    "collapsed": false
   },
   "outputs": [
    {
     "data": {
      "text/plain": [
       "0.48936170212765967"
      ]
     },
     "execution_count": 144,
     "metadata": {},
     "output_type": "execute_result"
    }
   ],
   "source": [
    "# theta 는 (0,0,0) 인 상태에서 cost 를 구해 보자.\n",
    "\n",
    "cost_initial = computeCost(X2, y2, theta2)\n",
    "cost_initial"
   ]
  },
  {
   "cell_type": "code",
   "execution_count": 145,
   "metadata": {
    "collapsed": true
   },
   "outputs": [],
   "source": [
    "# Cost function을 최소화하기 위해 업데이트하는 함수를 만들어 주자\n",
    "# ex1에서의 cost function과 완전히 동일!\n",
    "\n",
    "def gradientDescent(X, y, theta, alpha, iters):\n",
    "    theta_temp = np.matrix(np.zeros(theta.shape))\n",
    "    cost = np.zeros(iters)\n",
    "    for i in range(iters):\n",
    "        error = X*theta.T - y\n",
    "        for j in range(X.shape[1]):\n",
    "            theta_temp[0:,j] = theta[0:,j] - alpha*(1.0/X.shape[0])*sum(np.multiply(error, X[:,j]))\n",
    "        theta = theta_temp\n",
    "        cost[i] = computeCost(X, y, theta)\n",
    "    return theta, cost"
   ]
  },
  {
   "cell_type": "code",
   "execution_count": 146,
   "metadata": {
    "collapsed": false
   },
   "outputs": [],
   "source": [
    "alpha2 = 0.01\n",
    "iters2 = 1000\n",
    "theta_optimized, cost = gradientDescent(X2, y2, theta2, alpha2, iters2)"
   ]
  },
  {
   "cell_type": "code",
   "execution_count": 153,
   "metadata": {
    "collapsed": false
   },
   "outputs": [
    {
     "data": {
      "text/plain": [
       "matrix([[ -1.03433810e-16,   8.78503652e-01,  -4.69166570e-02]])"
      ]
     },
     "execution_count": 153,
     "metadata": {},
     "output_type": "execute_result"
    }
   ],
   "source": [
    "theta_optimized"
   ]
  },
  {
   "cell_type": "code",
   "execution_count": 154,
   "metadata": {
    "collapsed": false
   },
   "outputs": [
    {
     "data": {
      "text/plain": [
       "array([ 0.4805491 ,  0.47198588,  0.46366462,  0.45557814,  0.44771948,\n",
       "        0.44008189,  0.43265881,  0.42544389,  0.41843096,  0.41161404,\n",
       "        0.40498735,  0.39854524,  0.39228228,  0.38619317,  0.38027278,\n",
       "        0.37451612,  0.36891839,  0.36347488,  0.35818107,  0.35303254,\n",
       "        0.34802503,  0.34315438,  0.33841659,  0.33380775,  0.32932407,\n",
       "        0.3249619 ,  0.32071767,  0.31658793,  0.31256934,  0.30865863,\n",
       "        0.30485268,  0.30114841,  0.29754287,  0.29403318,  0.29061655,\n",
       "        0.28729027,  0.28405173,  0.28089837,  0.27782772,  0.27483739,\n",
       "        0.27192505,  0.26908845,  0.26632541,  0.26363379,  0.26101154,\n",
       "        0.25845666,  0.25596722,  0.25354134,  0.25117719,  0.248873  ,\n",
       "        0.24662705,  0.24443769,  0.24230329,  0.24022228,  0.23819315,\n",
       "        0.23621442,  0.23428466,  0.23240248,  0.23056652,  0.22877549,\n",
       "        0.22702811,  0.22532316,  0.22365943,  0.22203576,  0.22045104,\n",
       "        0.21890417,  0.21739409,  0.21591977,  0.21448021,  0.21307445,\n",
       "        0.21170155,  0.2103606 ,  0.2090507 ,  0.207771  ,  0.20652067,\n",
       "        0.2052989 ,  0.2041049 ,  0.20293791,  0.2017972 ,  0.20068203,\n",
       "        0.19959172,  0.1985256 ,  0.19748299,  0.19646328,  0.19546583,\n",
       "        0.19449004,  0.19353534,  0.19260116,  0.19168695,  0.19079217,\n",
       "        0.18991631,  0.18905886,  0.18821934,  0.18739727,  0.1865922 ,\n",
       "        0.18580367,  0.18503125,  0.18427452,  0.18353307,  0.18280651,\n",
       "        0.18209444,  0.18139649,  0.18071231,  0.18004153,  0.17938381,\n",
       "        0.17873883,  0.17810624,  0.17748575,  0.17687705,  0.17627983,\n",
       "        0.17569381,  0.17511871,  0.17455426,  0.17400019,  0.17345625,\n",
       "        0.17292219,  0.17239776,  0.17188273,  0.17137687,  0.17087996,\n",
       "        0.17039178,  0.16991212,  0.16944077,  0.16897754,  0.16852224,\n",
       "        0.16807468,  0.16763467,  0.16720204,  0.16677661,  0.16635822,\n",
       "        0.1659467 ,  0.16554191,  0.16514367,  0.16475185,  0.16436629,\n",
       "        0.16398686,  0.16361341,  0.16324582,  0.16288395,  0.16252768,\n",
       "        0.16217688,  0.16183143,  0.16149121,  0.16115612,  0.16082604,\n",
       "        0.16050087,  0.16018049,  0.15986481,  0.15955372,  0.15924714,\n",
       "        0.15894497,  0.15864711,  0.15835347,  0.15806398,  0.15777854,\n",
       "        0.15749707,  0.15721949,  0.15694573,  0.15667571,  0.15640935,\n",
       "        0.15614659,  0.15588734,  0.15563155,  0.15537914,  0.15513006,\n",
       "        0.15488423,  0.1546416 ,  0.1544021 ,  0.15416568,  0.15393228,\n",
       "        0.15370185,  0.15347432,  0.15324965,  0.15302778,  0.15280867,\n",
       "        0.15259226,  0.1523785 ,  0.15216736,  0.15195878,  0.15175272,\n",
       "        0.15154913,  0.15134798,  0.15114921,  0.1509528 ,  0.1507587 ,\n",
       "        0.15056686,  0.15037727,  0.15018987,  0.15000463,  0.14982151,\n",
       "        0.14964049,  0.14946153,  0.14928459,  0.14910964,  0.14893665,\n",
       "        0.1487656 ,  0.14859644,  0.14842916,  0.14826372,  0.14810009,\n",
       "        0.14793825,  0.14777817,  0.14761982,  0.14746318,  0.14730823,\n",
       "        0.14715493,  0.14700326,  0.14685321,  0.14670474,  0.14655784,\n",
       "        0.14641247,  0.14626863,  0.14612629,  0.14598543,  0.14584603,\n",
       "        0.14570806,  0.14557151,  0.14543636,  0.14530259,  0.14517018,\n",
       "        0.14503912,  0.14490938,  0.14478095,  0.14465381,  0.14452795,\n",
       "        0.14440334,  0.14427998,  0.14415784,  0.14403691,  0.14391718,\n",
       "        0.14379863,  0.14368124,  0.14356501,  0.14344991,  0.14333593,\n",
       "        0.14322307,  0.1431113 ,  0.14300061,  0.14289099,  0.14278243,\n",
       "        0.14267491,  0.14256842,  0.14246295,  0.1423585 ,  0.14225503,\n",
       "        0.14215255,  0.14205105,  0.14195051,  0.14185091,  0.14175226,\n",
       "        0.14165454,  0.14155774,  0.14146184,  0.14136685,  0.14127274,\n",
       "        0.14117951,  0.14108715,  0.14099565,  0.140905  ,  0.1408152 ,\n",
       "        0.14072622,  0.14063807,  0.14055073,  0.14046419,  0.14037846,\n",
       "        0.14029351,  0.14020934,  0.14012594,  0.14004331,  0.13996143,\n",
       "        0.1398803 ,  0.13979992,  0.13972026,  0.13964133,  0.13956311,\n",
       "        0.13948561,  0.13940881,  0.1393327 ,  0.13925728,  0.13918255,\n",
       "        0.13910849,  0.13903509,  0.13896236,  0.13889029,  0.13881886,\n",
       "        0.13874807,  0.13867792,  0.1386084 ,  0.1385395 ,  0.13847121,\n",
       "        0.13840354,  0.13833648,  0.13827001,  0.13820413,  0.13813884,\n",
       "        0.13807414,  0.13801001,  0.13794645,  0.13788345,  0.13782102,\n",
       "        0.13775913,  0.1376978 ,  0.13763701,  0.13757676,  0.13751705,\n",
       "        0.13745786,  0.13739919,  0.13734104,  0.13728341,  0.13722629,\n",
       "        0.13716966,  0.13711354,  0.13705791,  0.13700278,  0.13694812,\n",
       "        0.13689395,  0.13684026,  0.13678703,  0.13673428,  0.13668199,\n",
       "        0.13663015,  0.13657877,  0.13652784,  0.13647736,  0.13642732,\n",
       "        0.13637772,  0.13632855,  0.13627982,  0.1362315 ,  0.13618362,\n",
       "        0.13613615,  0.13608909,  0.13604245,  0.13599621,  0.13595038,\n",
       "        0.13590494,  0.1358599 ,  0.13581526,  0.13577101,  0.13572714,\n",
       "        0.13568365,  0.13564054,  0.13559781,  0.13555544,  0.13551345,\n",
       "        0.13547182,  0.13543056,  0.13538965,  0.1353491 ,  0.1353089 ,\n",
       "        0.13526905,  0.13522955,  0.13519039,  0.13515157,  0.13511308,\n",
       "        0.13507493,  0.13503712,  0.13499963,  0.13496246,  0.13492562,\n",
       "        0.13488909,  0.13485289,  0.134817  ,  0.13478141,  0.13474614,\n",
       "        0.13471117,  0.13467651,  0.13464214,  0.13460807,  0.1345743 ,\n",
       "        0.13454082,  0.13450763,  0.13447473,  0.13444211,  0.13440977,\n",
       "        0.13437771,  0.13434593,  0.13431443,  0.1342832 ,  0.13425223,\n",
       "        0.13422154,  0.13419111,  0.13416094,  0.13413104,  0.13410139,\n",
       "        0.134072  ,  0.13404286,  0.13401397,  0.13398534,  0.13395695,\n",
       "        0.1339288 ,  0.1339009 ,  0.13387324,  0.13384582,  0.13381863,\n",
       "        0.13379168,  0.13376496,  0.13373848,  0.13371222,  0.13368619,\n",
       "        0.13366038,  0.13363479,  0.13360943,  0.13358428,  0.13355935,\n",
       "        0.13353464,  0.13351014,  0.13348585,  0.13346177,  0.13343789,\n",
       "        0.13341423,  0.13339076,  0.1333675 ,  0.13334444,  0.13332158,\n",
       "        0.13329892,  0.13327645,  0.13325417,  0.13323209,  0.13321019,\n",
       "        0.13318849,  0.13316697,  0.13314564,  0.13312449,  0.13310352,\n",
       "        0.13308274,  0.13306213,  0.1330417 ,  0.13302145,  0.13300137,\n",
       "        0.13298146,  0.13296173,  0.13294216,  0.13292276,  0.13290353,\n",
       "        0.13288447,  0.13286557,  0.13284683,  0.13282826,  0.13280984,\n",
       "        0.13279158,  0.13277348,  0.13275554,  0.13273775,  0.13272011,\n",
       "        0.13270263,  0.13268529,  0.13266811,  0.13265107,  0.13263418,\n",
       "        0.13261743,  0.13260083,  0.13258437,  0.13256805,  0.13255188,\n",
       "        0.13253584,  0.13251994,  0.13250418,  0.13248855,  0.13247306,\n",
       "        0.1324577 ,  0.13244247,  0.13242737,  0.13241241,  0.13239757,\n",
       "        0.13238286,  0.13236828,  0.13235382,  0.13233948,  0.13232527,\n",
       "        0.13231119,  0.13229722,  0.13228337,  0.13226964,  0.13225603,\n",
       "        0.13224254,  0.13222917,  0.1322159 ,  0.13220276,  0.13218972,\n",
       "        0.1321768 ,  0.13216399,  0.13215129,  0.1321387 ,  0.13212621,\n",
       "        0.13211384,  0.13210157,  0.1320894 ,  0.13207734,  0.13206539,\n",
       "        0.13205353,  0.13204178,  0.13203013,  0.13201858,  0.13200713,\n",
       "        0.13199578,  0.13198452,  0.13197337,  0.1319623 ,  0.13195134,\n",
       "        0.13194047,  0.13192969,  0.131919  ,  0.13190841,  0.1318979 ,\n",
       "        0.13188749,  0.13187717,  0.13186693,  0.13185678,  0.13184672,\n",
       "        0.13183675,  0.13182686,  0.13181706,  0.13180734,  0.13179771,\n",
       "        0.13178816,  0.13177869,  0.1317693 ,  0.13175999,  0.13175077,\n",
       "        0.13174162,  0.13173255,  0.13172356,  0.13171464,  0.13170581,\n",
       "        0.13169704,  0.13168836,  0.13167975,  0.13167121,  0.13166274,\n",
       "        0.13165435,  0.13164603,  0.13163779,  0.13162961,  0.1316215 ,\n",
       "        0.13161347,  0.1316055 ,  0.1315976 ,  0.13158977,  0.131582  ,\n",
       "        0.13157431,  0.13156668,  0.13155911,  0.13155161,  0.13154417,\n",
       "        0.1315368 ,  0.13152949,  0.13152225,  0.13151506,  0.13150794,\n",
       "        0.13150088,  0.13149388,  0.13148694,  0.13148006,  0.13147324,\n",
       "        0.13146648,  0.13145977,  0.13145313,  0.13144654,  0.13144001,\n",
       "        0.13143353,  0.13142711,  0.13142074,  0.13141443,  0.13140817,\n",
       "        0.13140197,  0.13139582,  0.13138972,  0.13138368,  0.13137769,\n",
       "        0.13137175,  0.13136586,  0.13136002,  0.13135423,  0.13134849,\n",
       "        0.1313428 ,  0.13133716,  0.13133157,  0.13132602,  0.13132052,\n",
       "        0.13131507,  0.13130967,  0.13130432,  0.13129901,  0.13129374,\n",
       "        0.13128852,  0.13128335,  0.13127822,  0.13127313,  0.13126809,\n",
       "        0.13126309,  0.13125813,  0.13125322,  0.13124835,  0.13124352,\n",
       "        0.13123873,  0.13123399,  0.13122928,  0.13122461,  0.13121999,\n",
       "        0.1312154 ,  0.13121086,  0.13120635,  0.13120188,  0.13119745,\n",
       "        0.13119306,  0.13118871,  0.13118439,  0.13118011,  0.13117587,\n",
       "        0.13117166,  0.13116749,  0.13116336,  0.13115926,  0.13115519,\n",
       "        0.13115117,  0.13114717,  0.13114321,  0.13113929,  0.1311354 ,\n",
       "        0.13113154,  0.13112771,  0.13112392,  0.13112016,  0.13111643,\n",
       "        0.13111274,  0.13110907,  0.13110544,  0.13110184,  0.13109827,\n",
       "        0.13109473,  0.13109122,  0.13108774,  0.13108429,  0.13108088,\n",
       "        0.13107749,  0.13107412,  0.13107079,  0.13106749,  0.13106422,\n",
       "        0.13106097,  0.13105775,  0.13105456,  0.1310514 ,  0.13104826,\n",
       "        0.13104515,  0.13104207,  0.13103901,  0.13103598,  0.13103298,\n",
       "        0.13103   ,  0.13102705,  0.13102412,  0.13102122,  0.13101834,\n",
       "        0.13101549,  0.13101266,  0.13100986,  0.13100708,  0.13100432,\n",
       "        0.13100159,  0.13099888,  0.1309962 ,  0.13099353,  0.1309909 ,\n",
       "        0.13098828,  0.13098568,  0.13098311,  0.13098056,  0.13097804,\n",
       "        0.13097553,  0.13097305,  0.13097058,  0.13096814,  0.13096572,\n",
       "        0.13096332,  0.13096094,  0.13095858,  0.13095624,  0.13095392,\n",
       "        0.13095163,  0.13094935,  0.13094709,  0.13094485,  0.13094263,\n",
       "        0.13094043,  0.13093824,  0.13093608,  0.13093393,  0.13093181,\n",
       "        0.1309297 ,  0.13092761,  0.13092554,  0.13092348,  0.13092144,\n",
       "        0.13091942,  0.13091742,  0.13091544,  0.13091347,  0.13091152,\n",
       "        0.13090958,  0.13090767,  0.13090577,  0.13090388,  0.13090201,\n",
       "        0.13090016,  0.13089832,  0.1308965 ,  0.1308947 ,  0.13089291,\n",
       "        0.13089113,  0.13088937,  0.13088763,  0.1308859 ,  0.13088419,\n",
       "        0.13088249,  0.1308808 ,  0.13087913,  0.13087748,  0.13087584,\n",
       "        0.13087421,  0.1308726 ,  0.130871  ,  0.13086941,  0.13086784,\n",
       "        0.13086628,  0.13086473,  0.1308632 ,  0.13086168,  0.13086018,\n",
       "        0.13085868,  0.1308572 ,  0.13085574,  0.13085428,  0.13085284,\n",
       "        0.13085141,  0.13084999,  0.13084859,  0.13084719,  0.13084581,\n",
       "        0.13084444,  0.13084309,  0.13084174,  0.1308404 ,  0.13083908,\n",
       "        0.13083777,  0.13083647,  0.13083518,  0.1308339 ,  0.13083264,\n",
       "        0.13083138,  0.13083013,  0.1308289 ,  0.13082768,  0.13082646,\n",
       "        0.13082526,  0.13082407,  0.13082288,  0.13082171,  0.13082055,\n",
       "        0.1308194 ,  0.13081825,  0.13081712,  0.130816  ,  0.13081489,\n",
       "        0.13081378,  0.13081269,  0.1308116 ,  0.13081053,  0.13080946,\n",
       "        0.1308084 ,  0.13080736,  0.13080632,  0.13080529,  0.13080427,\n",
       "        0.13080325,  0.13080225,  0.13080126,  0.13080027,  0.13079929,\n",
       "        0.13079832,  0.13079736,  0.13079641,  0.13079546,  0.13079453,\n",
       "        0.1307936 ,  0.13079268,  0.13079176,  0.13079086,  0.13078996,\n",
       "        0.13078907,  0.13078819,  0.13078732,  0.13078645,  0.13078559,\n",
       "        0.13078474,  0.13078389,  0.13078306,  0.13078223,  0.1307814 ,\n",
       "        0.13078059,  0.13077978,  0.13077898,  0.13077818,  0.13077739,\n",
       "        0.13077661,  0.13077584,  0.13077507,  0.13077431,  0.13077355,\n",
       "        0.13077281,  0.13077206,  0.13077133,  0.1307706 ,  0.13076988,\n",
       "        0.13076916,  0.13076845,  0.13076774,  0.13076705,  0.13076635,\n",
       "        0.13076567,  0.13076499,  0.13076431,  0.13076364,  0.13076298,\n",
       "        0.13076232,  0.13076167,  0.13076102,  0.13076038,  0.13075975,\n",
       "        0.13075912,  0.13075849,  0.13075787,  0.13075726,  0.13075665,\n",
       "        0.13075605,  0.13075545,  0.13075486,  0.13075427,  0.13075369,\n",
       "        0.13075311,  0.13075254,  0.13075197,  0.13075141,  0.13075085,\n",
       "        0.1307503 ,  0.13074975,  0.1307492 ,  0.13074866,  0.13074813,\n",
       "        0.1307476 ,  0.13074708,  0.13074655,  0.13074604,  0.13074553,\n",
       "        0.13074502,  0.13074452,  0.13074402,  0.13074352,  0.13074303,\n",
       "        0.13074255,  0.13074206,  0.13074159,  0.13074111,  0.13074064,\n",
       "        0.13074018,  0.13073972,  0.13073926,  0.1307388 ,  0.13073836,\n",
       "        0.13073791,  0.13073747,  0.13073703,  0.13073659,  0.13073616,\n",
       "        0.13073574,  0.13073531,  0.13073489,  0.13073448,  0.13073407,\n",
       "        0.13073366,  0.13073325,  0.13073285,  0.13073245,  0.13073206,\n",
       "        0.13073166,  0.13073127,  0.13073089,  0.13073051,  0.13073013,\n",
       "        0.13072975,  0.13072938,  0.13072901,  0.13072865,  0.13072829,\n",
       "        0.13072793,  0.13072757,  0.13072722,  0.13072687,  0.13072652,\n",
       "        0.13072618,  0.13072583,  0.1307255 ,  0.13072516,  0.13072483,\n",
       "        0.1307245 ,  0.13072417,  0.13072385,  0.13072353,  0.13072321,\n",
       "        0.13072289,  0.13072258,  0.13072227,  0.13072196,  0.13072166,\n",
       "        0.13072136,  0.13072106,  0.13072076,  0.13072046,  0.13072017,\n",
       "        0.13071988,  0.13071959,  0.13071931,  0.13071903,  0.13071875,\n",
       "        0.13071847,  0.1307182 ,  0.13071792,  0.13071765,  0.13071739,\n",
       "        0.13071712,  0.13071686,  0.1307166 ,  0.13071634,  0.13071608,\n",
       "        0.13071583,  0.13071557,  0.13071532,  0.13071508,  0.13071483,\n",
       "        0.13071459,  0.13071434,  0.1307141 ,  0.13071387,  0.13071363,\n",
       "        0.1307134 ,  0.13071317,  0.13071294,  0.13071271,  0.13071248,\n",
       "        0.13071226,  0.13071204,  0.13071182,  0.1307116 ,  0.13071139,\n",
       "        0.13071117,  0.13071096,  0.13071075,  0.13071054,  0.13071033,\n",
       "        0.13071013,  0.13070993,  0.13070972,  0.13070952,  0.13070933,\n",
       "        0.13070913,  0.13070894,  0.13070874,  0.13070855,  0.13070836,\n",
       "        0.13070817,  0.13070799,  0.1307078 ,  0.13070762,  0.13070744,\n",
       "        0.13070726,  0.13070708,  0.1307069 ,  0.13070673,  0.13070655,\n",
       "        0.13070638,  0.13070621,  0.13070604,  0.13070587,  0.1307057 ,\n",
       "        0.13070554,  0.13070538,  0.13070521,  0.13070505,  0.13070489,\n",
       "        0.13070473,  0.13070458,  0.13070442,  0.13070427,  0.13070411,\n",
       "        0.13070396,  0.13070381,  0.13070366,  0.13070352,  0.13070337])"
      ]
     },
     "execution_count": 154,
     "metadata": {},
     "output_type": "execute_result"
    }
   ],
   "source": [
    "cost"
   ]
  },
  {
   "cell_type": "code",
   "execution_count": 155,
   "metadata": {
    "collapsed": false
   },
   "outputs": [
    {
     "data": {
      "text/plain": [
       "0.13070336960771892"
      ]
     },
     "execution_count": 155,
     "metadata": {},
     "output_type": "execute_result"
    }
   ],
   "source": [
    "computeCost(X2, y2, theta_optimized)"
   ]
  },
  {
   "cell_type": "code",
   "execution_count": 162,
   "metadata": {
    "collapsed": false
   },
   "outputs": [
    {
     "data": {
      "image/png": "[encoded data removed]",
      "text/plain": [
       "<matplotlib.figure.Figure at 0x10fadeb10>"
      ]
     },
     "metadata": {},
     "output_type": "display_data"
    }
   ],
   "source": [
    "# cost 감소 추이를 그려보자 (역시 ex1과 동일)\n",
    "\n",
    "fig, ax = plt.subplots(figsize=(12,8))\n",
    "ax.plot(np.arange(iters2), cost, 'r')  \n",
    "ax.set_xlabel('Iterations')  \n",
    "ax.set_ylabel('Cost')  \n",
    "ax.set_title('Error vs. Training Epoch') \n",
    "plt.show()"
   ]
  },
  {
   "cell_type": "code",
   "execution_count": 168,
   "metadata": {
    "collapsed": false
   },
   "outputs": [
    {
     "data": {
      "text/plain": [
       "matrix([[ -1.00613962e-16],\n",
       "        [  8.84765988e-01],\n",
       "        [ -5.31788197e-02]])"
      ]
     },
     "execution_count": 168,
     "metadata": {},
     "output_type": "execute_result"
    }
   ],
   "source": []
  },
  {
   "cell_type": "code",
   "execution_count": null,
   "metadata": {
    "collapsed": true
   },
   "outputs": [],
   "source": []
  }
 ],
 "metadata": {
  "kernelspec": {
   "display_name": "Python 2",
   "language": "python",
   "name": "python2"
  },
  "language_info": {
   "codemirror_mode": {
    "name": "ipython",
    "version": 2
   },
   "file_extension": ".py",
   "mimetype": "text/x-python",
   "name": "python",
   "nbconvert_exporter": "python",
   "pygments_lexer": "ipython2",
   "version": "2.7.10"
  }
 },
 "nbformat": 4,
 "nbformat_minor": 1
}
